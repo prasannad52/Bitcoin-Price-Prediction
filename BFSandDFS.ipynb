{
 "cells": [
  {
   "cell_type": "code",
   "execution_count": 1,
   "id": "890b5bf8",
   "metadata": {},
   "outputs": [
    {
     "name": "stdout",
     "output_type": "stream",
     "text": [
      "BFS Traversal:\n",
      "Bitcoin\n",
      "Exchanges\n",
      "Mining\n",
      "Wallets\n",
      "Binance\n",
      "Coinbase\n",
      "Miners\n",
      "Hot Wallets\n",
      "Cold Wallets\n",
      "\n",
      "DFS Traversal:\n",
      "Bitcoin\n",
      "Exchanges\n",
      "Binance\n",
      "Coinbase\n",
      "Mining\n",
      "Miners\n",
      "Wallets\n",
      "Hot Wallets\n",
      "Cold Wallets\n"
     ]
    }
   ],
   "source": [
    "graph = {\n",
    "    'Bitcoin': ['Exchanges', 'Mining', 'Wallets'],\n",
    "    'Exchanges': ['Binance', 'Coinbase'],\n",
    "    'Mining': ['Miners'],\n",
    "    'Wallets': ['Hot Wallets', 'Cold Wallets'],\n",
    "    'Binance': [],\n",
    "    'Coinbase': [],\n",
    "    'Miners': [],\n",
    "    'Hot Wallets': [],\n",
    "    'Cold Wallets': []\n",
    "}\n",
    "\n",
    "# BFS\n",
    "from collections import deque\n",
    "\n",
    "def bfs(graph, start):\n",
    "    visited = set()\n",
    "    queue = deque([start])\n",
    "\n",
    "    while queue:\n",
    "        vertex = queue.popleft()\n",
    "        if vertex not in visited:\n",
    "            print(vertex)\n",
    "            visited.add(vertex)\n",
    "            queue.extend(graph[vertex])\n",
    "\n",
    "print(\"BFS Traversal:\")\n",
    "bfs(graph, 'Bitcoin')\n",
    "\n",
    "# DFS\n",
    "def dfs(graph, node, visited=None):\n",
    "    if visited is None:\n",
    "        visited = set()\n",
    "    print(node)\n",
    "    visited.add(node)\n",
    "    for neighbor in graph[node]:\n",
    "        if neighbor not in visited:\n",
    "            dfs(graph, neighbor, visited)\n",
    "\n",
    "print(\"\\nDFS Traversal:\")\n",
    "dfs(graph, 'Bitcoin')\n"
   ]
  },
  {
   "cell_type": "code",
   "execution_count": null,
   "id": "9ef5511e",
   "metadata": {},
   "outputs": [],
   "source": []
  }
 ],
 "metadata": {
  "kernelspec": {
   "display_name": "base",
   "language": "python",
   "name": "python3"
  },
  "language_info": {
   "codemirror_mode": {
    "name": "ipython",
    "version": 3
   },
   "file_extension": ".py",
   "mimetype": "text/x-python",
   "name": "python",
   "nbconvert_exporter": "python",
   "pygments_lexer": "ipython3",
   "version": "3.12.7"
  }
 },
 "nbformat": 4,
 "nbformat_minor": 5
}
