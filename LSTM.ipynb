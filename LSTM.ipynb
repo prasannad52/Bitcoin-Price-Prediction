{
  "cells": [
    {
      "cell_type": "code",
      "execution_count": 1,
      "id": "9cf9857c",
      "metadata": {},
      "outputs": [],
      "source": [
        "# First we will import the necessary Library \n",
        "\n",
        "import os\n",
        "import pandas as pd\n",
        "import numpy as np\n",
        "import math\n",
        "import datetime as dt\n",
        "import matplotlib.pyplot as plt\n",
        "\n",
        "# For Evalution we will use these library\n",
        "\n",
        "from sklearn.metrics import mean_squared_error, mean_absolute_error, explained_variance_score, r2_score \n",
        "from sklearn.metrics import mean_poisson_deviance, mean_gamma_deviance, accuracy_score\n",
        "from sklearn.preprocessing import MinMaxScaler\n",
        "\n",
        "# For model building we will use these library\n",
        "\n",
        "import tensorflow as tf\n",
        "from tensorflow.keras.models import Sequential\n",
        "from tensorflow.keras.layers import Dense, Dropout\n",
        "from tensorflow.keras.layers import LSTM\n",
        "\n",
        "\n",
        "# For PLotting we will use these library\n",
        "\n",
        "import matplotlib.pyplot as plt\n",
        "from itertools import cycle\n",
        "import plotly.graph_objects as go\n",
        "import plotly.express as px\n",
        "from plotly.subplots import make_subplots"
      ]
    },
    {
      "cell_type": "code",
      "execution_count": 2,
      "id": "76f3ca52",
      "metadata": {},
      "outputs": [],
      "source": [
        "maindf=pd.read_csv('btc.csv')"
      ]
    },
    {
      "cell_type": "code",
      "execution_count": 3,
      "id": "916b3164",
      "metadata": {},
      "outputs": [
        {
          "name": "stdout",
          "output_type": "stream",
          "text": [
            "Total number of days present in the dataset:  2713\n",
            "Total number of fields present in the dataset:  7\n"
          ]
        }
      ],
      "source": [
        "print('Total number of days present in the dataset: ',maindf.shape[0])\n",
        "print('Total number of fields present in the dataset: ',maindf.shape[1])"
      ]
    },
    {
      "cell_type": "code",
      "execution_count": 4,
      "id": "a4077db6",
      "metadata": {},
      "outputs": [
        {
          "data": {
            "text/plain": [
              "(2713, 7)"
            ]
          },
          "execution_count": 4,
          "metadata": {},
          "output_type": "execute_result"
        }
      ],
      "source": [
        "maindf.shape"
      ]
    },
    {
      "cell_type": "code",
      "execution_count": 5,
      "id": "8b02772f",
      "metadata": {},
      "outputs": [
        {
          "data": {
            "application/vnd.microsoft.datawrangler.viewer.v0+json": {
              "columns": [
                {
                  "name": "index",
                  "rawType": "int64",
                  "type": "integer"
                },
                {
                  "name": "Date",
                  "rawType": "object",
                  "type": "string"
                },
                {
                  "name": "Open",
                  "rawType": "float64",
                  "type": "float"
                },
                {
                  "name": "High",
                  "rawType": "float64",
                  "type": "float"
                },
                {
                  "name": "Low",
                  "rawType": "float64",
                  "type": "float"
                },
                {
                  "name": "Close",
                  "rawType": "float64",
                  "type": "float"
                },
                {
                  "name": "Adj Close",
                  "rawType": "float64",
                  "type": "float"
                },
                {
                  "name": "Volume",
                  "rawType": "int64",
                  "type": "integer"
                }
              ],
              "ref": "69426e6d-f49e-4a8f-b6ff-74f91def397a",
              "rows": [
                [
                  "0",
                  "2014-09-17",
                  "465.864014",
                  "468.174011",
                  "452.421997",
                  "457.334015",
                  "457.334015",
                  "21056800"
                ],
                [
                  "1",
                  "2014-09-18",
                  "456.859985",
                  "456.859985",
                  "413.104004",
                  "424.440002",
                  "424.440002",
                  "34483200"
                ],
                [
                  "2",
                  "2014-09-19",
                  "424.102997",
                  "427.834991",
                  "384.532013",
                  "394.79599",
                  "394.79599",
                  "37919700"
                ],
                [
                  "3",
                  "2014-09-20",
                  "394.673004",
                  "423.29599",
                  "389.882996",
                  "408.903992",
                  "408.903992",
                  "36863600"
                ],
                [
                  "4",
                  "2014-09-21",
                  "408.084991",
                  "412.425995",
                  "393.181",
                  "398.821014",
                  "398.821014",
                  "26580100"
                ]
              ],
              "shape": {
                "columns": 7,
                "rows": 5
              }
            },
            "text/html": [
              "<div>\n",
              "<style scoped>\n",
              "    .dataframe tbody tr th:only-of-type {\n",
              "        vertical-align: middle;\n",
              "    }\n",
              "\n",
              "    .dataframe tbody tr th {\n",
              "        vertical-align: top;\n",
              "    }\n",
              "\n",
              "    .dataframe thead th {\n",
              "        text-align: right;\n",
              "    }\n",
              "</style>\n",
              "<table border=\"1\" class=\"dataframe\">\n",
              "  <thead>\n",
              "    <tr style=\"text-align: right;\">\n",
              "      <th></th>\n",
              "      <th>Date</th>\n",
              "      <th>Open</th>\n",
              "      <th>High</th>\n",
              "      <th>Low</th>\n",
              "      <th>Close</th>\n",
              "      <th>Adj Close</th>\n",
              "      <th>Volume</th>\n",
              "    </tr>\n",
              "  </thead>\n",
              "  <tbody>\n",
              "    <tr>\n",
              "      <th>0</th>\n",
              "      <td>2014-09-17</td>\n",
              "      <td>465.864014</td>\n",
              "      <td>468.174011</td>\n",
              "      <td>452.421997</td>\n",
              "      <td>457.334015</td>\n",
              "      <td>457.334015</td>\n",
              "      <td>21056800</td>\n",
              "    </tr>\n",
              "    <tr>\n",
              "      <th>1</th>\n",
              "      <td>2014-09-18</td>\n",
              "      <td>456.859985</td>\n",
              "      <td>456.859985</td>\n",
              "      <td>413.104004</td>\n",
              "      <td>424.440002</td>\n",
              "      <td>424.440002</td>\n",
              "      <td>34483200</td>\n",
              "    </tr>\n",
              "    <tr>\n",
              "      <th>2</th>\n",
              "      <td>2014-09-19</td>\n",
              "      <td>424.102997</td>\n",
              "      <td>427.834991</td>\n",
              "      <td>384.532013</td>\n",
              "      <td>394.795990</td>\n",
              "      <td>394.795990</td>\n",
              "      <td>37919700</td>\n",
              "    </tr>\n",
              "    <tr>\n",
              "      <th>3</th>\n",
              "      <td>2014-09-20</td>\n",
              "      <td>394.673004</td>\n",
              "      <td>423.295990</td>\n",
              "      <td>389.882996</td>\n",
              "      <td>408.903992</td>\n",
              "      <td>408.903992</td>\n",
              "      <td>36863600</td>\n",
              "    </tr>\n",
              "    <tr>\n",
              "      <th>4</th>\n",
              "      <td>2014-09-21</td>\n",
              "      <td>408.084991</td>\n",
              "      <td>412.425995</td>\n",
              "      <td>393.181000</td>\n",
              "      <td>398.821014</td>\n",
              "      <td>398.821014</td>\n",
              "      <td>26580100</td>\n",
              "    </tr>\n",
              "  </tbody>\n",
              "</table>\n",
              "</div>"
            ],
            "text/plain": [
              "         Date        Open        High         Low       Close   Adj Close  \\\n",
              "0  2014-09-17  465.864014  468.174011  452.421997  457.334015  457.334015   \n",
              "1  2014-09-18  456.859985  456.859985  413.104004  424.440002  424.440002   \n",
              "2  2014-09-19  424.102997  427.834991  384.532013  394.795990  394.795990   \n",
              "3  2014-09-20  394.673004  423.295990  389.882996  408.903992  408.903992   \n",
              "4  2014-09-21  408.084991  412.425995  393.181000  398.821014  398.821014   \n",
              "\n",
              "     Volume  \n",
              "0  21056800  \n",
              "1  34483200  \n",
              "2  37919700  \n",
              "3  36863600  \n",
              "4  26580100  "
            ]
          },
          "execution_count": 5,
          "metadata": {},
          "output_type": "execute_result"
        }
      ],
      "source": [
        "maindf.head()\n"
      ]
    },
    {
      "cell_type": "code",
      "execution_count": 6,
      "id": "8afc1460",
      "metadata": {},
      "outputs": [
        {
          "data": {
            "application/vnd.microsoft.datawrangler.viewer.v0+json": {
              "columns": [
                {
                  "name": "index",
                  "rawType": "int64",
                  "type": "integer"
                },
                {
                  "name": "Date",
                  "rawType": "object",
                  "type": "string"
                },
                {
                  "name": "Open",
                  "rawType": "float64",
                  "type": "float"
                },
                {
                  "name": "High",
                  "rawType": "float64",
                  "type": "float"
                },
                {
                  "name": "Low",
                  "rawType": "float64",
                  "type": "float"
                },
                {
                  "name": "Close",
                  "rawType": "float64",
                  "type": "float"
                },
                {
                  "name": "Adj Close",
                  "rawType": "float64",
                  "type": "float"
                },
                {
                  "name": "Volume",
                  "rawType": "int64",
                  "type": "integer"
                }
              ],
              "ref": "281c614e-038d-482a-bf09-6bf85b362ae6",
              "rows": [
                [
                  "2708",
                  "2022-02-15",
                  "42586.464844",
                  "44667.21875",
                  "42491.035156",
                  "44575.203125",
                  "44575.203125",
                  "22721659051"
                ],
                [
                  "2709",
                  "2022-02-16",
                  "44578.277344",
                  "44578.277344",
                  "43456.691406",
                  "43961.859375",
                  "43961.859375",
                  "19792547657"
                ],
                [
                  "2710",
                  "2022-02-17",
                  "43937.070313",
                  "44132.972656",
                  "40249.371094",
                  "40538.011719",
                  "40538.011719",
                  "26246662813"
                ],
                [
                  "2711",
                  "2022-02-18",
                  "40552.132813",
                  "40929.152344",
                  "39637.617188",
                  "40030.976563",
                  "40030.976563",
                  "23310007704"
                ],
                [
                  "2712",
                  "2022-02-19",
                  "40022.132813",
                  "40246.027344",
                  "40010.867188",
                  "40126.429688",
                  "40126.429688",
                  "22263900160"
                ]
              ],
              "shape": {
                "columns": 7,
                "rows": 5
              }
            },
            "text/html": [
              "<div>\n",
              "<style scoped>\n",
              "    .dataframe tbody tr th:only-of-type {\n",
              "        vertical-align: middle;\n",
              "    }\n",
              "\n",
              "    .dataframe tbody tr th {\n",
              "        vertical-align: top;\n",
              "    }\n",
              "\n",
              "    .dataframe thead th {\n",
              "        text-align: right;\n",
              "    }\n",
              "</style>\n",
              "<table border=\"1\" class=\"dataframe\">\n",
              "  <thead>\n",
              "    <tr style=\"text-align: right;\">\n",
              "      <th></th>\n",
              "      <th>Date</th>\n",
              "      <th>Open</th>\n",
              "      <th>High</th>\n",
              "      <th>Low</th>\n",
              "      <th>Close</th>\n",
              "      <th>Adj Close</th>\n",
              "      <th>Volume</th>\n",
              "    </tr>\n",
              "  </thead>\n",
              "  <tbody>\n",
              "    <tr>\n",
              "      <th>2708</th>\n",
              "      <td>2022-02-15</td>\n",
              "      <td>42586.464844</td>\n",
              "      <td>44667.218750</td>\n",
              "      <td>42491.035156</td>\n",
              "      <td>44575.203125</td>\n",
              "      <td>44575.203125</td>\n",
              "      <td>22721659051</td>\n",
              "    </tr>\n",
              "    <tr>\n",
              "      <th>2709</th>\n",
              "      <td>2022-02-16</td>\n",
              "      <td>44578.277344</td>\n",
              "      <td>44578.277344</td>\n",
              "      <td>43456.691406</td>\n",
              "      <td>43961.859375</td>\n",
              "      <td>43961.859375</td>\n",
              "      <td>19792547657</td>\n",
              "    </tr>\n",
              "    <tr>\n",
              "      <th>2710</th>\n",
              "      <td>2022-02-17</td>\n",
              "      <td>43937.070313</td>\n",
              "      <td>44132.972656</td>\n",
              "      <td>40249.371094</td>\n",
              "      <td>40538.011719</td>\n",
              "      <td>40538.011719</td>\n",
              "      <td>26246662813</td>\n",
              "    </tr>\n",
              "    <tr>\n",
              "      <th>2711</th>\n",
              "      <td>2022-02-18</td>\n",
              "      <td>40552.132813</td>\n",
              "      <td>40929.152344</td>\n",
              "      <td>39637.617188</td>\n",
              "      <td>40030.976563</td>\n",
              "      <td>40030.976563</td>\n",
              "      <td>23310007704</td>\n",
              "    </tr>\n",
              "    <tr>\n",
              "      <th>2712</th>\n",
              "      <td>2022-02-19</td>\n",
              "      <td>40022.132813</td>\n",
              "      <td>40246.027344</td>\n",
              "      <td>40010.867188</td>\n",
              "      <td>40126.429688</td>\n",
              "      <td>40126.429688</td>\n",
              "      <td>22263900160</td>\n",
              "    </tr>\n",
              "  </tbody>\n",
              "</table>\n",
              "</div>"
            ],
            "text/plain": [
              "            Date          Open          High           Low         Close  \\\n",
              "2708  2022-02-15  42586.464844  44667.218750  42491.035156  44575.203125   \n",
              "2709  2022-02-16  44578.277344  44578.277344  43456.691406  43961.859375   \n",
              "2710  2022-02-17  43937.070313  44132.972656  40249.371094  40538.011719   \n",
              "2711  2022-02-18  40552.132813  40929.152344  39637.617188  40030.976563   \n",
              "2712  2022-02-19  40022.132813  40246.027344  40010.867188  40126.429688   \n",
              "\n",
              "         Adj Close       Volume  \n",
              "2708  44575.203125  22721659051  \n",
              "2709  43961.859375  19792547657  \n",
              "2710  40538.011719  26246662813  \n",
              "2711  40030.976563  23310007704  \n",
              "2712  40126.429688  22263900160  "
            ]
          },
          "execution_count": 6,
          "metadata": {},
          "output_type": "execute_result"
        }
      ],
      "source": [
        "maindf.tail()\n"
      ]
    },
    {
      "cell_type": "code",
      "execution_count": 7,
      "id": "84875091",
      "metadata": {},
      "outputs": [
        {
          "name": "stdout",
          "output_type": "stream",
          "text": [
            "<class 'pandas.core.frame.DataFrame'>\n",
            "RangeIndex: 2713 entries, 0 to 2712\n",
            "Data columns (total 7 columns):\n",
            " #   Column     Non-Null Count  Dtype  \n",
            "---  ------     --------------  -----  \n",
            " 0   Date       2713 non-null   object \n",
            " 1   Open       2713 non-null   float64\n",
            " 2   High       2713 non-null   float64\n",
            " 3   Low        2713 non-null   float64\n",
            " 4   Close      2713 non-null   float64\n",
            " 5   Adj Close  2713 non-null   float64\n",
            " 6   Volume     2713 non-null   int64  \n",
            "dtypes: float64(5), int64(1), object(1)\n",
            "memory usage: 148.5+ KB\n"
          ]
        }
      ],
      "source": [
        "maindf.info()\n"
      ]
    },
    {
      "cell_type": "code",
      "execution_count": 8,
      "id": "ae176789",
      "metadata": {},
      "outputs": [
        {
          "data": {
            "application/vnd.microsoft.datawrangler.viewer.v0+json": {
              "columns": [
                {
                  "name": "index",
                  "rawType": "object",
                  "type": "string"
                },
                {
                  "name": "Open",
                  "rawType": "float64",
                  "type": "float"
                },
                {
                  "name": "High",
                  "rawType": "float64",
                  "type": "float"
                },
                {
                  "name": "Low",
                  "rawType": "float64",
                  "type": "float"
                },
                {
                  "name": "Close",
                  "rawType": "float64",
                  "type": "float"
                },
                {
                  "name": "Adj Close",
                  "rawType": "float64",
                  "type": "float"
                },
                {
                  "name": "Volume",
                  "rawType": "float64",
                  "type": "float"
                }
              ],
              "ref": "d45933a4-dc18-4ba7-9e6d-749226bd8fa3",
              "rows": [
                [
                  "count",
                  "2713.0",
                  "2713.0",
                  "2713.0",
                  "2713.0",
                  "2713.0",
                  "2713.0"
                ],
                [
                  "mean",
                  "11311.04106888942",
                  "11614.2924822101",
                  "10975.555057374495",
                  "11323.914637190566",
                  "11323.914637190566",
                  "14704617846.594545"
                ],
                [
                  "std",
                  "16106.428891479882",
                  "16537.390648731223",
                  "15608.572560422952",
                  "16110.365009695252",
                  "16110.365009695252",
                  "20016265866.110836"
                ],
                [
                  "min",
                  "176.897003",
                  "211.731003",
                  "171.509995",
                  "178.102997",
                  "178.102997",
                  "5914570.0"
                ],
                [
                  "25%",
                  "606.396973",
                  "609.260986",
                  "604.109985",
                  "606.718994",
                  "606.718994",
                  "79910800.0"
                ],
                [
                  "50%",
                  "6301.569824",
                  "6434.617676",
                  "6214.220215",
                  "6317.609863",
                  "6317.609863",
                  "5098183235.0"
                ],
                [
                  "75%",
                  "10452.399414",
                  "10762.644531",
                  "10202.387695",
                  "10462.259766",
                  "10462.259766",
                  "24569921549.0"
                ],
                [
                  "max",
                  "67549.734375",
                  "68789.625",
                  "66382.0625",
                  "67566.828125",
                  "67566.828125",
                  "350967941479.0"
                ]
              ],
              "shape": {
                "columns": 6,
                "rows": 8
              }
            },
            "text/html": [
              "<div>\n",
              "<style scoped>\n",
              "    .dataframe tbody tr th:only-of-type {\n",
              "        vertical-align: middle;\n",
              "    }\n",
              "\n",
              "    .dataframe tbody tr th {\n",
              "        vertical-align: top;\n",
              "    }\n",
              "\n",
              "    .dataframe thead th {\n",
              "        text-align: right;\n",
              "    }\n",
              "</style>\n",
              "<table border=\"1\" class=\"dataframe\">\n",
              "  <thead>\n",
              "    <tr style=\"text-align: right;\">\n",
              "      <th></th>\n",
              "      <th>Open</th>\n",
              "      <th>High</th>\n",
              "      <th>Low</th>\n",
              "      <th>Close</th>\n",
              "      <th>Adj Close</th>\n",
              "      <th>Volume</th>\n",
              "    </tr>\n",
              "  </thead>\n",
              "  <tbody>\n",
              "    <tr>\n",
              "      <th>count</th>\n",
              "      <td>2713.000000</td>\n",
              "      <td>2713.000000</td>\n",
              "      <td>2713.000000</td>\n",
              "      <td>2713.000000</td>\n",
              "      <td>2713.000000</td>\n",
              "      <td>2.713000e+03</td>\n",
              "    </tr>\n",
              "    <tr>\n",
              "      <th>mean</th>\n",
              "      <td>11311.041069</td>\n",
              "      <td>11614.292482</td>\n",
              "      <td>10975.555057</td>\n",
              "      <td>11323.914637</td>\n",
              "      <td>11323.914637</td>\n",
              "      <td>1.470462e+10</td>\n",
              "    </tr>\n",
              "    <tr>\n",
              "      <th>std</th>\n",
              "      <td>16106.428891</td>\n",
              "      <td>16537.390649</td>\n",
              "      <td>15608.572560</td>\n",
              "      <td>16110.365010</td>\n",
              "      <td>16110.365010</td>\n",
              "      <td>2.001627e+10</td>\n",
              "    </tr>\n",
              "    <tr>\n",
              "      <th>min</th>\n",
              "      <td>176.897003</td>\n",
              "      <td>211.731003</td>\n",
              "      <td>171.509995</td>\n",
              "      <td>178.102997</td>\n",
              "      <td>178.102997</td>\n",
              "      <td>5.914570e+06</td>\n",
              "    </tr>\n",
              "    <tr>\n",
              "      <th>25%</th>\n",
              "      <td>606.396973</td>\n",
              "      <td>609.260986</td>\n",
              "      <td>604.109985</td>\n",
              "      <td>606.718994</td>\n",
              "      <td>606.718994</td>\n",
              "      <td>7.991080e+07</td>\n",
              "    </tr>\n",
              "    <tr>\n",
              "      <th>50%</th>\n",
              "      <td>6301.569824</td>\n",
              "      <td>6434.617676</td>\n",
              "      <td>6214.220215</td>\n",
              "      <td>6317.609863</td>\n",
              "      <td>6317.609863</td>\n",
              "      <td>5.098183e+09</td>\n",
              "    </tr>\n",
              "    <tr>\n",
              "      <th>75%</th>\n",
              "      <td>10452.399414</td>\n",
              "      <td>10762.644531</td>\n",
              "      <td>10202.387695</td>\n",
              "      <td>10462.259766</td>\n",
              "      <td>10462.259766</td>\n",
              "      <td>2.456992e+10</td>\n",
              "    </tr>\n",
              "    <tr>\n",
              "      <th>max</th>\n",
              "      <td>67549.734375</td>\n",
              "      <td>68789.625000</td>\n",
              "      <td>66382.062500</td>\n",
              "      <td>67566.828125</td>\n",
              "      <td>67566.828125</td>\n",
              "      <td>3.509679e+11</td>\n",
              "    </tr>\n",
              "  </tbody>\n",
              "</table>\n",
              "</div>"
            ],
            "text/plain": [
              "               Open          High           Low         Close     Adj Close  \\\n",
              "count   2713.000000   2713.000000   2713.000000   2713.000000   2713.000000   \n",
              "mean   11311.041069  11614.292482  10975.555057  11323.914637  11323.914637   \n",
              "std    16106.428891  16537.390649  15608.572560  16110.365010  16110.365010   \n",
              "min      176.897003    211.731003    171.509995    178.102997    178.102997   \n",
              "25%      606.396973    609.260986    604.109985    606.718994    606.718994   \n",
              "50%     6301.569824   6434.617676   6214.220215   6317.609863   6317.609863   \n",
              "75%    10452.399414  10762.644531  10202.387695  10462.259766  10462.259766   \n",
              "max    67549.734375  68789.625000  66382.062500  67566.828125  67566.828125   \n",
              "\n",
              "             Volume  \n",
              "count  2.713000e+03  \n",
              "mean   1.470462e+10  \n",
              "std    2.001627e+10  \n",
              "min    5.914570e+06  \n",
              "25%    7.991080e+07  \n",
              "50%    5.098183e+09  \n",
              "75%    2.456992e+10  \n",
              "max    3.509679e+11  "
            ]
          },
          "execution_count": 8,
          "metadata": {},
          "output_type": "execute_result"
        }
      ],
      "source": [
        "maindf.describe()"
      ]
    },
    {
      "cell_type": "code",
      "execution_count": 9,
      "id": "01dc4a02",
      "metadata": {},
      "outputs": [
        {
          "name": "stdout",
          "output_type": "stream",
          "text": [
            "Null Values: 0\n"
          ]
        }
      ],
      "source": [
        "print('Null Values:',maindf.isnull().values.sum())\n"
      ]
    },
    {
      "cell_type": "code",
      "execution_count": 10,
      "id": "17cb258f",
      "metadata": {},
      "outputs": [
        {
          "name": "stdout",
          "output_type": "stream",
          "text": [
            "Shape of close dataframe: (2713, 2)\n"
          ]
        }
      ],
      "source": [
        "# Lets First Take all the Close Price \n",
        "closedf = maindf[['Date','Close']]\n",
        "print(\"Shape of close dataframe:\", closedf.shape)"
      ]
    },
    {
      "cell_type": "code",
      "execution_count": 12,
      "id": "505c1223",
      "metadata": {},
      "outputs": [],
      "source": [
        "import plotly.express as px\n",
        "\n",
        "fig = px.line(closedf, \n",
        "              x=closedf.Date, \n",
        "              y=closedf.Close, \n",
        "              labels={'Date': 'Date', 'Close': 'Close Stock'})\n",
        "\n",
        "fig.update_traces(marker_line_width=2, opacity=0.8, marker_line_color='orange')\n",
        "\n",
        "fig.update_layout(title_text='Whole period of timeframe of Bitcoin close price 2014-2022', \n",
        "                  plot_bgcolor='white', \n",
        "                  font_size=15, \n",
        "                  font_color='black')\n",
        "\n",
        "fig.update_xaxes(showgrid=False)\n",
        "fig.update_yaxes(showgrid=False)\n",
        "\n",
        "# Optional: render in browser if you're not in Jupyter\n",
        "import plotly.io as pio\n",
        "pio.renderers.default = \"browser\"\n",
        "\n",
        "fig.show()\n"
      ]
    },
    {
      "cell_type": "code",
      "execution_count": 13,
      "id": "7cb5e257",
      "metadata": {},
      "outputs": [
        {
          "name": "stdout",
          "output_type": "stream",
          "text": [
            "(2713, 1)\n"
          ]
        }
      ],
      "source": [
        "# deleting date column and normalizing using MinMax Scaler\n",
        "\n",
        "del closedf['Date']\n",
        "scaler=MinMaxScaler(feature_range=(0,1))\n",
        "closedf=scaler.fit_transform(np.array(closedf).reshape(-1,1))\n",
        "print(closedf.shape)"
      ]
    },
    {
      "cell_type": "code",
      "execution_count": 14,
      "id": "9314d216",
      "metadata": {},
      "outputs": [
        {
          "name": "stdout",
          "output_type": "stream",
          "text": [
            "train_data:  (1627, 1)\n",
            "test_data:  (1086, 1)\n"
          ]
        }
      ],
      "source": [
        "# we keep the training set as 60% and 40% testing set\n",
        "\n",
        "training_size=int(len(closedf)*0.60)\n",
        "test_size=len(closedf)-training_size\n",
        "train_data,test_data=closedf[0:training_size,:],closedf[training_size:len(closedf),:1]\n",
        "print(\"train_data: \", train_data.shape)\n",
        "print(\"test_data: \", test_data.shape)"
      ]
    },
    {
      "cell_type": "code",
      "execution_count": 15,
      "id": "35c2697f",
      "metadata": {},
      "outputs": [],
      "source": [
        "def create_dataset(dataset, time_step=1):\n",
        "    dataX, dataY = [], []\n",
        "    for i in range(len(dataset)-time_step-1):\n",
        "        a = dataset[i:(i+time_step), 0]   ###i=0, 0,1,2,3-----99   100 \n",
        "        dataX.append(a)\n",
        "        dataY.append(dataset[i + time_step, 0])\n",
        "    return np.array(dataX), np.array(dataY)"
      ]
    },
    {
      "cell_type": "code",
      "execution_count": 16,
      "id": "1ea0d2dd",
      "metadata": {},
      "outputs": [
        {
          "name": "stdout",
          "output_type": "stream",
          "text": [
            "X_train:  (1611, 15)\n",
            "y_train:  (1611,)\n",
            "X_test:  (1070, 15)\n",
            "y_test (1070,)\n"
          ]
        }
      ],
      "source": [
        "time_step = 15\n",
        "X_train, y_train = create_dataset(train_data, time_step)\n",
        "X_test, y_test = create_dataset(test_data, time_step)\n",
        "\n",
        "print(\"X_train: \", X_train.shape)\n",
        "print(\"y_train: \", y_train.shape)\n",
        "print(\"X_test: \", X_test.shape)\n",
        "print(\"y_test\", y_test.shape)"
      ]
    },
    {
      "cell_type": "code",
      "execution_count": 17,
      "id": "284372d4",
      "metadata": {},
      "outputs": [
        {
          "name": "stdout",
          "output_type": "stream",
          "text": [
            "X_train:  (1611, 15, 1)\n",
            "X_test:  (1070, 15, 1)\n"
          ]
        }
      ],
      "source": [
        "# reshape input to be [samples, time steps, features] which is required for LSTM\n",
        "X_train =X_train.reshape(X_train.shape[0],X_train.shape[1] , 1)\n",
        "X_test = X_test.reshape(X_test.shape[0],X_test.shape[1] , 1)\n",
        "\n",
        "print(\"X_train: \", X_train.shape)\n",
        "print(\"X_test: \", X_test.shape)"
      ]
    },
    {
      "cell_type": "code",
      "execution_count": 18,
      "id": "f1b3baae",
      "metadata": {},
      "outputs": [
        {
          "name": "stderr",
          "output_type": "stream",
          "text": [
            "C:\\Users\\Prasanna dindi\\AppData\\Roaming\\Python\\Python312\\site-packages\\keras\\src\\layers\\rnn\\rnn.py:204: UserWarning:\n",
            "\n",
            "Do not pass an `input_shape`/`input_dim` argument to a layer. When using Sequential models, prefer using an `Input(shape)` object as the first layer in the model instead.\n",
            "\n"
          ]
        }
      ],
      "source": [
        "model=Sequential()\n",
        "\n",
        "model.add(LSTM(10,input_shape=(None,1),activation=\"relu\"))\n",
        "\n",
        "model.add(Dense(1))\n",
        "\n",
        "model.compile(loss=\"mean_squared_error\",optimizer=\"adam\")"
      ]
    },
    {
      "cell_type": "code",
      "execution_count": 19,
      "id": "c8fc618b",
      "metadata": {},
      "outputs": [
        {
          "name": "stdout",
          "output_type": "stream",
          "text": [
            "Epoch 1/150\n",
            "\u001b[1m51/51\u001b[0m \u001b[32m━━━━━━━━━━━━━━━━━━━━\u001b[0m\u001b[37m\u001b[0m \u001b[1m4s\u001b[0m 16ms/step - loss: 0.0035 - val_loss: 0.1353\n",
            "Epoch 2/150\n",
            "\u001b[1m51/51\u001b[0m \u001b[32m━━━━━━━━━━━━━━━━━━━━\u001b[0m\u001b[37m\u001b[0m \u001b[1m0s\u001b[0m 8ms/step - loss: 0.0025 - val_loss: 0.0908\n",
            "Epoch 3/150\n",
            "\u001b[1m51/51\u001b[0m \u001b[32m━━━━━━━━━━━━━━━━━━━━\u001b[0m\u001b[37m\u001b[0m \u001b[1m0s\u001b[0m 7ms/step - loss: 0.0018 - val_loss: 0.0162\n",
            "Epoch 4/150\n",
            "\u001b[1m51/51\u001b[0m \u001b[32m━━━━━━━━━━━━━━━━━━━━\u001b[0m\u001b[37m\u001b[0m \u001b[1m0s\u001b[0m 6ms/step - loss: 7.5764e-04 - val_loss: 16.6531\n",
            "Epoch 5/150\n",
            "\u001b[1m51/51\u001b[0m \u001b[32m━━━━━━━━━━━━━━━━━━━━\u001b[0m\u001b[37m\u001b[0m \u001b[1m0s\u001b[0m 8ms/step - loss: 1.5160e-04 - val_loss: 6.2349\n",
            "Epoch 6/150\n",
            "\u001b[1m51/51\u001b[0m \u001b[32m━━━━━━━━━━━━━━━━━━━━\u001b[0m\u001b[37m\u001b[0m \u001b[1m0s\u001b[0m 7ms/step - loss: 1.2436e-04 - val_loss: 2.9692\n",
            "Epoch 7/150\n",
            "\u001b[1m51/51\u001b[0m \u001b[32m━━━━━━━━━━━━━━━━━━━━\u001b[0m\u001b[37m\u001b[0m \u001b[1m0s\u001b[0m 6ms/step - loss: 1.5406e-04 - val_loss: 2.7601\n",
            "Epoch 8/150\n",
            "\u001b[1m51/51\u001b[0m \u001b[32m━━━━━━━━━━━━━━━━━━━━\u001b[0m\u001b[37m\u001b[0m \u001b[1m0s\u001b[0m 5ms/step - loss: 1.0982e-04 - val_loss: 1.1330\n",
            "Epoch 9/150\n",
            "\u001b[1m51/51\u001b[0m \u001b[32m━━━━━━━━━━━━━━━━━━━━\u001b[0m\u001b[37m\u001b[0m \u001b[1m0s\u001b[0m 6ms/step - loss: 9.8644e-05 - val_loss: 0.6201\n",
            "Epoch 10/150\n",
            "\u001b[1m51/51\u001b[0m \u001b[32m━━━━━━━━━━━━━━━━━━━━\u001b[0m\u001b[37m\u001b[0m \u001b[1m0s\u001b[0m 6ms/step - loss: 1.1671e-04 - val_loss: 0.4399\n",
            "Epoch 11/150\n",
            "\u001b[1m51/51\u001b[0m \u001b[32m━━━━━━━━━━━━━━━━━━━━\u001b[0m\u001b[37m\u001b[0m \u001b[1m0s\u001b[0m 5ms/step - loss: 1.1083e-04 - val_loss: 0.2047\n",
            "Epoch 12/150\n",
            "\u001b[1m51/51\u001b[0m \u001b[32m━━━━━━━━━━━━━━━━━━━━\u001b[0m\u001b[37m\u001b[0m \u001b[1m0s\u001b[0m 5ms/step - loss: 9.7850e-05 - val_loss: 0.1825\n",
            "Epoch 13/150\n",
            "\u001b[1m51/51\u001b[0m \u001b[32m━━━━━━━━━━━━━━━━━━━━\u001b[0m\u001b[37m\u001b[0m \u001b[1m0s\u001b[0m 5ms/step - loss: 1.0605e-04 - val_loss: 0.0807\n",
            "Epoch 14/150\n",
            "\u001b[1m51/51\u001b[0m \u001b[32m━━━━━━━━━━━━━━━━━━━━\u001b[0m\u001b[37m\u001b[0m \u001b[1m0s\u001b[0m 6ms/step - loss: 7.2088e-05 - val_loss: 0.0582\n",
            "Epoch 15/150\n",
            "\u001b[1m51/51\u001b[0m \u001b[32m━━━━━━━━━━━━━━━━━━━━\u001b[0m\u001b[37m\u001b[0m \u001b[1m0s\u001b[0m 5ms/step - loss: 8.9568e-05 - val_loss: 0.0384\n",
            "Epoch 16/150\n",
            "\u001b[1m51/51\u001b[0m \u001b[32m━━━━━━━━━━━━━━━━━━━━\u001b[0m\u001b[37m\u001b[0m \u001b[1m0s\u001b[0m 6ms/step - loss: 7.9661e-05 - val_loss: 0.0258\n",
            "Epoch 17/150\n",
            "\u001b[1m51/51\u001b[0m \u001b[32m━━━━━━━━━━━━━━━━━━━━\u001b[0m\u001b[37m\u001b[0m \u001b[1m0s\u001b[0m 9ms/step - loss: 7.9266e-05 - val_loss: 0.0138\n",
            "Epoch 18/150\n",
            "\u001b[1m51/51\u001b[0m \u001b[32m━━━━━━━━━━━━━━━━━━━━\u001b[0m\u001b[37m\u001b[0m \u001b[1m0s\u001b[0m 6ms/step - loss: 7.2122e-05 - val_loss: 0.0124\n",
            "Epoch 19/150\n",
            "\u001b[1m51/51\u001b[0m \u001b[32m━━━━━━━━━━━━━━━━━━━━\u001b[0m\u001b[37m\u001b[0m \u001b[1m0s\u001b[0m 6ms/step - loss: 7.3165e-05 - val_loss: 0.0044\n",
            "Epoch 20/150\n",
            "\u001b[1m51/51\u001b[0m \u001b[32m━━━━━━━━━━━━━━━━━━━━\u001b[0m\u001b[37m\u001b[0m \u001b[1m0s\u001b[0m 7ms/step - loss: 8.0217e-05 - val_loss: 0.0031\n",
            "Epoch 21/150\n",
            "\u001b[1m51/51\u001b[0m \u001b[32m━━━━━━━━━━━━━━━━━━━━\u001b[0m\u001b[37m\u001b[0m \u001b[1m0s\u001b[0m 6ms/step - loss: 6.4178e-05 - val_loss: 0.0032\n",
            "Epoch 22/150\n",
            "\u001b[1m51/51\u001b[0m \u001b[32m━━━━━━━━━━━━━━━━━━━━\u001b[0m\u001b[37m\u001b[0m \u001b[1m0s\u001b[0m 5ms/step - loss: 7.1779e-05 - val_loss: 0.0014\n",
            "Epoch 23/150\n",
            "\u001b[1m51/51\u001b[0m \u001b[32m━━━━━━━━━━━━━━━━━━━━\u001b[0m\u001b[37m\u001b[0m \u001b[1m0s\u001b[0m 5ms/step - loss: 6.8045e-05 - val_loss: 0.0012\n",
            "Epoch 24/150\n",
            "\u001b[1m51/51\u001b[0m \u001b[32m━━━━━━━━━━━━━━━━━━━━\u001b[0m\u001b[37m\u001b[0m \u001b[1m0s\u001b[0m 5ms/step - loss: 6.2988e-05 - val_loss: 0.0011\n",
            "Epoch 25/150\n",
            "\u001b[1m51/51\u001b[0m \u001b[32m━━━━━━━━━━━━━━━━━━━━\u001b[0m\u001b[37m\u001b[0m \u001b[1m0s\u001b[0m 6ms/step - loss: 4.7150e-05 - val_loss: 0.0012\n",
            "Epoch 26/150\n",
            "\u001b[1m51/51\u001b[0m \u001b[32m━━━━━━━━━━━━━━━━━━━━\u001b[0m\u001b[37m\u001b[0m \u001b[1m0s\u001b[0m 5ms/step - loss: 7.0777e-05 - val_loss: 0.0024\n",
            "Epoch 27/150\n",
            "\u001b[1m51/51\u001b[0m \u001b[32m━━━━━━━━━━━━━━━━━━━━\u001b[0m\u001b[37m\u001b[0m \u001b[1m0s\u001b[0m 5ms/step - loss: 5.6484e-05 - val_loss: 0.0026\n",
            "Epoch 28/150\n",
            "\u001b[1m51/51\u001b[0m \u001b[32m━━━━━━━━━━━━━━━━━━━━\u001b[0m\u001b[37m\u001b[0m \u001b[1m0s\u001b[0m 5ms/step - loss: 6.3361e-05 - val_loss: 0.0043\n",
            "Epoch 29/150\n",
            "\u001b[1m51/51\u001b[0m \u001b[32m━━━━━━━━━━━━━━━━━━━━\u001b[0m\u001b[37m\u001b[0m \u001b[1m0s\u001b[0m 5ms/step - loss: 7.0352e-05 - val_loss: 0.0037\n",
            "Epoch 30/150\n",
            "\u001b[1m51/51\u001b[0m \u001b[32m━━━━━━━━━━━━━━━━━━━━\u001b[0m\u001b[37m\u001b[0m \u001b[1m0s\u001b[0m 6ms/step - loss: 7.2062e-05 - val_loss: 0.0053\n",
            "Epoch 31/150\n",
            "\u001b[1m51/51\u001b[0m \u001b[32m━━━━━━━━━━━━━━━━━━━━\u001b[0m\u001b[37m\u001b[0m \u001b[1m0s\u001b[0m 6ms/step - loss: 4.6617e-05 - val_loss: 0.0065\n",
            "Epoch 32/150\n",
            "\u001b[1m51/51\u001b[0m \u001b[32m━━━━━━━━━━━━━━━━━━━━\u001b[0m\u001b[37m\u001b[0m \u001b[1m0s\u001b[0m 7ms/step - loss: 6.2597e-05 - val_loss: 0.0045\n",
            "Epoch 33/150\n",
            "\u001b[1m51/51\u001b[0m \u001b[32m━━━━━━━━━━━━━━━━━━━━\u001b[0m\u001b[37m\u001b[0m \u001b[1m0s\u001b[0m 8ms/step - loss: 6.8475e-05 - val_loss: 0.0068\n",
            "Epoch 34/150\n",
            "\u001b[1m51/51\u001b[0m \u001b[32m━━━━━━━━━━━━━━━━━━━━\u001b[0m\u001b[37m\u001b[0m \u001b[1m1s\u001b[0m 9ms/step - loss: 5.5646e-05 - val_loss: 0.0071\n",
            "Epoch 35/150\n",
            "\u001b[1m51/51\u001b[0m \u001b[32m━━━━━━━━━━━━━━━━━━━━\u001b[0m\u001b[37m\u001b[0m \u001b[1m0s\u001b[0m 7ms/step - loss: 4.7995e-05 - val_loss: 0.0070\n",
            "Epoch 36/150\n",
            "\u001b[1m51/51\u001b[0m \u001b[32m━━━━━━━━━━━━━━━━━━━━\u001b[0m\u001b[37m\u001b[0m \u001b[1m0s\u001b[0m 7ms/step - loss: 5.6111e-05 - val_loss: 0.0074\n",
            "Epoch 37/150\n",
            "\u001b[1m51/51\u001b[0m \u001b[32m━━━━━━━━━━━━━━━━━━━━\u001b[0m\u001b[37m\u001b[0m \u001b[1m0s\u001b[0m 7ms/step - loss: 6.0529e-05 - val_loss: 0.0077\n",
            "Epoch 38/150\n",
            "\u001b[1m51/51\u001b[0m \u001b[32m━━━━━━━━━━━━━━━━━━━━\u001b[0m\u001b[37m\u001b[0m \u001b[1m0s\u001b[0m 7ms/step - loss: 4.3661e-05 - val_loss: 0.0074\n",
            "Epoch 39/150\n",
            "\u001b[1m51/51\u001b[0m \u001b[32m━━━━━━━━━━━━━━━━━━━━\u001b[0m\u001b[37m\u001b[0m \u001b[1m0s\u001b[0m 7ms/step - loss: 6.0423e-05 - val_loss: 0.0097\n",
            "Epoch 40/150\n",
            "\u001b[1m51/51\u001b[0m \u001b[32m━━━━━━━━━━━━━━━━━━━━\u001b[0m\u001b[37m\u001b[0m \u001b[1m0s\u001b[0m 8ms/step - loss: 6.4729e-05 - val_loss: 0.0106\n",
            "Epoch 41/150\n",
            "\u001b[1m51/51\u001b[0m \u001b[32m━━━━━━━━━━━━━━━━━━━━\u001b[0m\u001b[37m\u001b[0m \u001b[1m0s\u001b[0m 7ms/step - loss: 4.9356e-05 - val_loss: 0.0098\n",
            "Epoch 42/150\n",
            "\u001b[1m51/51\u001b[0m \u001b[32m━━━━━━━━━━━━━━━━━━━━\u001b[0m\u001b[37m\u001b[0m \u001b[1m0s\u001b[0m 8ms/step - loss: 4.8556e-05 - val_loss: 0.0117\n",
            "Epoch 43/150\n",
            "\u001b[1m51/51\u001b[0m \u001b[32m━━━━━━━━━━━━━━━━━━━━\u001b[0m\u001b[37m\u001b[0m \u001b[1m0s\u001b[0m 7ms/step - loss: 4.0004e-05 - val_loss: 0.0103\n",
            "Epoch 44/150\n",
            "\u001b[1m51/51\u001b[0m \u001b[32m━━━━━━━━━━━━━━━━━━━━\u001b[0m\u001b[37m\u001b[0m \u001b[1m0s\u001b[0m 7ms/step - loss: 4.0584e-05 - val_loss: 0.0123\n",
            "Epoch 45/150\n",
            "\u001b[1m51/51\u001b[0m \u001b[32m━━━━━━━━━━━━━━━━━━━━\u001b[0m\u001b[37m\u001b[0m \u001b[1m0s\u001b[0m 7ms/step - loss: 4.0454e-05 - val_loss: 0.0141\n",
            "Epoch 46/150\n",
            "\u001b[1m51/51\u001b[0m \u001b[32m━━━━━━━━━━━━━━━━━━━━\u001b[0m\u001b[37m\u001b[0m \u001b[1m0s\u001b[0m 8ms/step - loss: 4.1859e-05 - val_loss: 0.0134\n",
            "Epoch 47/150\n",
            "\u001b[1m51/51\u001b[0m \u001b[32m━━━━━━━━━━━━━━━━━━━━\u001b[0m\u001b[37m\u001b[0m \u001b[1m0s\u001b[0m 7ms/step - loss: 4.3800e-05 - val_loss: 0.0155\n",
            "Epoch 48/150\n",
            "\u001b[1m51/51\u001b[0m \u001b[32m━━━━━━━━━━━━━━━━━━━━\u001b[0m\u001b[37m\u001b[0m \u001b[1m0s\u001b[0m 8ms/step - loss: 4.2648e-05 - val_loss: 0.0157\n",
            "Epoch 49/150\n",
            "\u001b[1m51/51\u001b[0m \u001b[32m━━━━━━━━━━━━━━━━━━━━\u001b[0m\u001b[37m\u001b[0m \u001b[1m0s\u001b[0m 7ms/step - loss: 4.5103e-05 - val_loss: 0.0121\n",
            "Epoch 50/150\n",
            "\u001b[1m51/51\u001b[0m \u001b[32m━━━━━━━━━━━━━━━━━━━━\u001b[0m\u001b[37m\u001b[0m \u001b[1m0s\u001b[0m 6ms/step - loss: 4.7970e-05 - val_loss: 0.0146\n",
            "Epoch 51/150\n",
            "\u001b[1m51/51\u001b[0m \u001b[32m━━━━━━━━━━━━━━━━━━━━\u001b[0m\u001b[37m\u001b[0m \u001b[1m0s\u001b[0m 7ms/step - loss: 3.8496e-05 - val_loss: 0.0141\n",
            "Epoch 52/150\n",
            "\u001b[1m51/51\u001b[0m \u001b[32m━━━━━━━━━━━━━━━━━━━━\u001b[0m\u001b[37m\u001b[0m \u001b[1m0s\u001b[0m 7ms/step - loss: 4.1466e-05 - val_loss: 0.0159\n",
            "Epoch 53/150\n",
            "\u001b[1m51/51\u001b[0m \u001b[32m━━━━━━━━━━━━━━━━━━━━\u001b[0m\u001b[37m\u001b[0m \u001b[1m0s\u001b[0m 7ms/step - loss: 3.6873e-05 - val_loss: 0.0157\n",
            "Epoch 54/150\n",
            "\u001b[1m51/51\u001b[0m \u001b[32m━━━━━━━━━━━━━━━━━━━━\u001b[0m\u001b[37m\u001b[0m \u001b[1m0s\u001b[0m 7ms/step - loss: 3.8862e-05 - val_loss: 0.0157\n",
            "Epoch 55/150\n",
            "\u001b[1m51/51\u001b[0m \u001b[32m━━━━━━━━━━━━━━━━━━━━\u001b[0m\u001b[37m\u001b[0m \u001b[1m0s\u001b[0m 7ms/step - loss: 3.9437e-05 - val_loss: 0.0157\n",
            "Epoch 56/150\n",
            "\u001b[1m51/51\u001b[0m \u001b[32m━━━━━━━━━━━━━━━━━━━━\u001b[0m\u001b[37m\u001b[0m \u001b[1m0s\u001b[0m 7ms/step - loss: 3.4744e-05 - val_loss: 0.0134\n",
            "Epoch 57/150\n",
            "\u001b[1m51/51\u001b[0m \u001b[32m━━━━━━━━━━━━━━━━━━━━\u001b[0m\u001b[37m\u001b[0m \u001b[1m0s\u001b[0m 7ms/step - loss: 3.8380e-05 - val_loss: 0.0142\n",
            "Epoch 58/150\n",
            "\u001b[1m51/51\u001b[0m \u001b[32m━━━━━━━━━━━━━━━━━━━━\u001b[0m\u001b[37m\u001b[0m \u001b[1m0s\u001b[0m 7ms/step - loss: 3.5350e-05 - val_loss: 0.0164\n",
            "Epoch 59/150\n",
            "\u001b[1m51/51\u001b[0m \u001b[32m━━━━━━━━━━━━━━━━━━━━\u001b[0m\u001b[37m\u001b[0m \u001b[1m0s\u001b[0m 7ms/step - loss: 3.9816e-05 - val_loss: 0.0201\n",
            "Epoch 60/150\n",
            "\u001b[1m51/51\u001b[0m \u001b[32m━━━━━━━━━━━━━━━━━━━━\u001b[0m\u001b[37m\u001b[0m \u001b[1m0s\u001b[0m 7ms/step - loss: 4.0204e-05 - val_loss: 0.0214\n",
            "Epoch 61/150\n",
            "\u001b[1m51/51\u001b[0m \u001b[32m━━━━━━━━━━━━━━━━━━━━\u001b[0m\u001b[37m\u001b[0m \u001b[1m0s\u001b[0m 7ms/step - loss: 3.7312e-05 - val_loss: 0.0165\n",
            "Epoch 62/150\n",
            "\u001b[1m51/51\u001b[0m \u001b[32m━━━━━━━━━━━━━━━━━━━━\u001b[0m\u001b[37m\u001b[0m \u001b[1m0s\u001b[0m 7ms/step - loss: 3.3409e-05 - val_loss: 0.0177\n",
            "Epoch 63/150\n",
            "\u001b[1m51/51\u001b[0m \u001b[32m━━━━━━━━━━━━━━━━━━━━\u001b[0m\u001b[37m\u001b[0m \u001b[1m0s\u001b[0m 7ms/step - loss: 3.6303e-05 - val_loss: 0.0207\n",
            "Epoch 64/150\n",
            "\u001b[1m51/51\u001b[0m \u001b[32m━━━━━━━━━━━━━━━━━━━━\u001b[0m\u001b[37m\u001b[0m \u001b[1m0s\u001b[0m 6ms/step - loss: 3.0585e-05 - val_loss: 0.0184\n",
            "Epoch 65/150\n",
            "\u001b[1m51/51\u001b[0m \u001b[32m━━━━━━━━━━━━━━━━━━━━\u001b[0m\u001b[37m\u001b[0m \u001b[1m0s\u001b[0m 7ms/step - loss: 3.1165e-05 - val_loss: 0.0200\n",
            "Epoch 66/150\n",
            "\u001b[1m51/51\u001b[0m \u001b[32m━━━━━━━━━━━━━━━━━━━━\u001b[0m\u001b[37m\u001b[0m \u001b[1m0s\u001b[0m 7ms/step - loss: 3.4353e-05 - val_loss: 0.0188\n",
            "Epoch 67/150\n",
            "\u001b[1m51/51\u001b[0m \u001b[32m━━━━━━━━━━━━━━━━━━━━\u001b[0m\u001b[37m\u001b[0m \u001b[1m0s\u001b[0m 7ms/step - loss: 3.3565e-05 - val_loss: 0.0190\n",
            "Epoch 68/150\n",
            "\u001b[1m51/51\u001b[0m \u001b[32m━━━━━━━━━━━━━━━━━━━━\u001b[0m\u001b[37m\u001b[0m \u001b[1m0s\u001b[0m 6ms/step - loss: 3.7892e-05 - val_loss: 0.0214\n",
            "Epoch 69/150\n",
            "\u001b[1m51/51\u001b[0m \u001b[32m━━━━━━━━━━━━━━━━━━━━\u001b[0m\u001b[37m\u001b[0m \u001b[1m0s\u001b[0m 7ms/step - loss: 4.2603e-05 - val_loss: 0.0158\n",
            "Epoch 70/150\n",
            "\u001b[1m51/51\u001b[0m \u001b[32m━━━━━━━━━━━━━━━━━━━━\u001b[0m\u001b[37m\u001b[0m \u001b[1m0s\u001b[0m 7ms/step - loss: 2.7543e-05 - val_loss: 0.0144\n",
            "Epoch 71/150\n",
            "\u001b[1m51/51\u001b[0m \u001b[32m━━━━━━━━━━━━━━━━━━━━\u001b[0m\u001b[37m\u001b[0m \u001b[1m0s\u001b[0m 7ms/step - loss: 3.1632e-05 - val_loss: 0.0160\n",
            "Epoch 72/150\n",
            "\u001b[1m51/51\u001b[0m \u001b[32m━━━━━━━━━━━━━━━━━━━━\u001b[0m\u001b[37m\u001b[0m \u001b[1m0s\u001b[0m 7ms/step - loss: 3.2601e-05 - val_loss: 0.0190\n",
            "Epoch 73/150\n",
            "\u001b[1m51/51\u001b[0m \u001b[32m━━━━━━━━━━━━━━━━━━━━\u001b[0m\u001b[37m\u001b[0m \u001b[1m0s\u001b[0m 7ms/step - loss: 2.5799e-05 - val_loss: 0.0174\n",
            "Epoch 74/150\n",
            "\u001b[1m51/51\u001b[0m \u001b[32m━━━━━━━━━━━━━━━━━━━━\u001b[0m\u001b[37m\u001b[0m \u001b[1m0s\u001b[0m 7ms/step - loss: 3.2730e-05 - val_loss: 0.0159\n",
            "Epoch 75/150\n",
            "\u001b[1m51/51\u001b[0m \u001b[32m━━━━━━━━━━━━━━━━━━━━\u001b[0m\u001b[37m\u001b[0m \u001b[1m0s\u001b[0m 7ms/step - loss: 3.1626e-05 - val_loss: 0.0177\n",
            "Epoch 76/150\n",
            "\u001b[1m51/51\u001b[0m \u001b[32m━━━━━━━━━━━━━━━━━━━━\u001b[0m\u001b[37m\u001b[0m \u001b[1m0s\u001b[0m 7ms/step - loss: 3.1805e-05 - val_loss: 0.0182\n",
            "Epoch 77/150\n",
            "\u001b[1m51/51\u001b[0m \u001b[32m━━━━━━━━━━━━━━━━━━━━\u001b[0m\u001b[37m\u001b[0m \u001b[1m0s\u001b[0m 8ms/step - loss: 2.9913e-05 - val_loss: 0.0171\n",
            "Epoch 78/150\n",
            "\u001b[1m51/51\u001b[0m \u001b[32m━━━━━━━━━━━━━━━━━━━━\u001b[0m\u001b[37m\u001b[0m \u001b[1m0s\u001b[0m 7ms/step - loss: 3.0173e-05 - val_loss: 0.0167\n",
            "Epoch 79/150\n",
            "\u001b[1m51/51\u001b[0m \u001b[32m━━━━━━━━━━━━━━━━━━━━\u001b[0m\u001b[37m\u001b[0m \u001b[1m0s\u001b[0m 7ms/step - loss: 2.8053e-05 - val_loss: 0.0171\n",
            "Epoch 80/150\n",
            "\u001b[1m51/51\u001b[0m \u001b[32m━━━━━━━━━━━━━━━━━━━━\u001b[0m\u001b[37m\u001b[0m \u001b[1m0s\u001b[0m 6ms/step - loss: 2.7769e-05 - val_loss: 0.0181\n",
            "Epoch 81/150\n",
            "\u001b[1m51/51\u001b[0m \u001b[32m━━━━━━━━━━━━━━━━━━━━\u001b[0m\u001b[37m\u001b[0m \u001b[1m0s\u001b[0m 7ms/step - loss: 3.7793e-05 - val_loss: 0.0143\n",
            "Epoch 82/150\n",
            "\u001b[1m51/51\u001b[0m \u001b[32m━━━━━━━━━━━━━━━━━━━━\u001b[0m\u001b[37m\u001b[0m \u001b[1m0s\u001b[0m 6ms/step - loss: 3.1494e-05 - val_loss: 0.0131\n",
            "Epoch 83/150\n",
            "\u001b[1m51/51\u001b[0m \u001b[32m━━━━━━━━━━━━━━━━━━━━\u001b[0m\u001b[37m\u001b[0m \u001b[1m0s\u001b[0m 7ms/step - loss: 3.0564e-05 - val_loss: 0.0135\n",
            "Epoch 84/150\n",
            "\u001b[1m51/51\u001b[0m \u001b[32m━━━━━━━━━━━━━━━━━━━━\u001b[0m\u001b[37m\u001b[0m \u001b[1m0s\u001b[0m 7ms/step - loss: 2.4170e-05 - val_loss: 0.0129\n",
            "Epoch 85/150\n",
            "\u001b[1m51/51\u001b[0m \u001b[32m━━━━━━━━━━━━━━━━━━━━\u001b[0m\u001b[37m\u001b[0m \u001b[1m0s\u001b[0m 7ms/step - loss: 3.1844e-05 - val_loss: 0.0155\n",
            "Epoch 86/150\n",
            "\u001b[1m51/51\u001b[0m \u001b[32m━━━━━━━━━━━━━━━━━━━━\u001b[0m\u001b[37m\u001b[0m \u001b[1m0s\u001b[0m 6ms/step - loss: 3.0088e-05 - val_loss: 0.0128\n",
            "Epoch 87/150\n",
            "\u001b[1m51/51\u001b[0m \u001b[32m━━━━━━━━━━━━━━━━━━━━\u001b[0m\u001b[37m\u001b[0m \u001b[1m0s\u001b[0m 7ms/step - loss: 2.2519e-05 - val_loss: 0.0135\n",
            "Epoch 88/150\n",
            "\u001b[1m51/51\u001b[0m \u001b[32m━━━━━━━━━━━━━━━━━━━━\u001b[0m\u001b[37m\u001b[0m \u001b[1m0s\u001b[0m 7ms/step - loss: 2.3442e-05 - val_loss: 0.0127\n",
            "Epoch 89/150\n",
            "\u001b[1m51/51\u001b[0m \u001b[32m━━━━━━━━━━━━━━━━━━━━\u001b[0m\u001b[37m\u001b[0m \u001b[1m0s\u001b[0m 7ms/step - loss: 2.8882e-05 - val_loss: 0.0138\n",
            "Epoch 90/150\n",
            "\u001b[1m51/51\u001b[0m \u001b[32m━━━━━━━━━━━━━━━━━━━━\u001b[0m\u001b[37m\u001b[0m \u001b[1m0s\u001b[0m 7ms/step - loss: 2.8804e-05 - val_loss: 0.0139\n",
            "Epoch 91/150\n",
            "\u001b[1m51/51\u001b[0m \u001b[32m━━━━━━━━━━━━━━━━━━━━\u001b[0m\u001b[37m\u001b[0m \u001b[1m0s\u001b[0m 7ms/step - loss: 2.2448e-05 - val_loss: 0.0152\n",
            "Epoch 92/150\n",
            "\u001b[1m51/51\u001b[0m \u001b[32m━━━━━━━━━━━━━━━━━━━━\u001b[0m\u001b[37m\u001b[0m \u001b[1m0s\u001b[0m 7ms/step - loss: 2.1817e-05 - val_loss: 0.0085\n",
            "Epoch 93/150\n",
            "\u001b[1m51/51\u001b[0m \u001b[32m━━━━━━━━━━━━━━━━━━━━\u001b[0m\u001b[37m\u001b[0m \u001b[1m0s\u001b[0m 7ms/step - loss: 2.6091e-05 - val_loss: 0.0079\n",
            "Epoch 94/150\n",
            "\u001b[1m51/51\u001b[0m \u001b[32m━━━━━━━━━━━━━━━━━━━━\u001b[0m\u001b[37m\u001b[0m \u001b[1m0s\u001b[0m 7ms/step - loss: 2.7398e-05 - val_loss: 0.0065\n",
            "Epoch 95/150\n",
            "\u001b[1m51/51\u001b[0m \u001b[32m━━━━━━━━━━━━━━━━━━━━\u001b[0m\u001b[37m\u001b[0m \u001b[1m0s\u001b[0m 7ms/step - loss: 2.2348e-05 - val_loss: 0.0074\n",
            "Epoch 96/150\n",
            "\u001b[1m51/51\u001b[0m \u001b[32m━━━━━━━━━━━━━━━━━━━━\u001b[0m\u001b[37m\u001b[0m \u001b[1m0s\u001b[0m 7ms/step - loss: 2.8270e-05 - val_loss: 0.0078\n",
            "Epoch 97/150\n",
            "\u001b[1m51/51\u001b[0m \u001b[32m━━━━━━━━━━━━━━━━━━━━\u001b[0m\u001b[37m\u001b[0m \u001b[1m0s\u001b[0m 7ms/step - loss: 2.5785e-05 - val_loss: 0.0071\n",
            "Epoch 98/150\n",
            "\u001b[1m51/51\u001b[0m \u001b[32m━━━━━━━━━━━━━━━━━━━━\u001b[0m\u001b[37m\u001b[0m \u001b[1m0s\u001b[0m 7ms/step - loss: 3.3920e-05 - val_loss: 0.0086\n",
            "Epoch 99/150\n",
            "\u001b[1m51/51\u001b[0m \u001b[32m━━━━━━━━━━━━━━━━━━━━\u001b[0m\u001b[37m\u001b[0m \u001b[1m0s\u001b[0m 7ms/step - loss: 3.2104e-05 - val_loss: 0.0089\n",
            "Epoch 100/150\n",
            "\u001b[1m51/51\u001b[0m \u001b[32m━━━━━━━━━━━━━━━━━━━━\u001b[0m\u001b[37m\u001b[0m \u001b[1m0s\u001b[0m 6ms/step - loss: 2.7829e-05 - val_loss: 0.0071\n",
            "Epoch 101/150\n",
            "\u001b[1m51/51\u001b[0m \u001b[32m━━━━━━━━━━━━━━━━━━━━\u001b[0m\u001b[37m\u001b[0m \u001b[1m0s\u001b[0m 6ms/step - loss: 2.0738e-05 - val_loss: 0.0075\n",
            "Epoch 102/150\n",
            "\u001b[1m51/51\u001b[0m \u001b[32m━━━━━━━━━━━━━━━━━━━━\u001b[0m\u001b[37m\u001b[0m \u001b[1m0s\u001b[0m 7ms/step - loss: 1.9557e-05 - val_loss: 0.0055\n",
            "Epoch 103/150\n",
            "\u001b[1m51/51\u001b[0m \u001b[32m━━━━━━━━━━━━━━━━━━━━\u001b[0m\u001b[37m\u001b[0m \u001b[1m0s\u001b[0m 7ms/step - loss: 2.4303e-05 - val_loss: 0.0075\n",
            "Epoch 104/150\n",
            "\u001b[1m51/51\u001b[0m \u001b[32m━━━━━━━━━━━━━━━━━━━━\u001b[0m\u001b[37m\u001b[0m \u001b[1m0s\u001b[0m 8ms/step - loss: 2.6434e-05 - val_loss: 0.0069\n",
            "Epoch 105/150\n",
            "\u001b[1m51/51\u001b[0m \u001b[32m━━━━━━━━━━━━━━━━━━━━\u001b[0m\u001b[37m\u001b[0m \u001b[1m0s\u001b[0m 7ms/step - loss: 1.7816e-05 - val_loss: 0.0060\n",
            "Epoch 106/150\n",
            "\u001b[1m51/51\u001b[0m \u001b[32m━━━━━━━━━━━━━━━━━━━━\u001b[0m\u001b[37m\u001b[0m \u001b[1m0s\u001b[0m 7ms/step - loss: 2.4502e-05 - val_loss: 0.0076\n",
            "Epoch 107/150\n",
            "\u001b[1m51/51\u001b[0m \u001b[32m━━━━━━━━━━━━━━━━━━━━\u001b[0m\u001b[37m\u001b[0m \u001b[1m0s\u001b[0m 6ms/step - loss: 1.9632e-05 - val_loss: 0.0063\n",
            "Epoch 108/150\n",
            "\u001b[1m51/51\u001b[0m \u001b[32m━━━━━━━━━━━━━━━━━━━━\u001b[0m\u001b[37m\u001b[0m \u001b[1m0s\u001b[0m 7ms/step - loss: 2.0596e-05 - val_loss: 0.0070\n",
            "Epoch 109/150\n",
            "\u001b[1m51/51\u001b[0m \u001b[32m━━━━━━━━━━━━━━━━━━━━\u001b[0m\u001b[37m\u001b[0m \u001b[1m0s\u001b[0m 7ms/step - loss: 2.6783e-05 - val_loss: 0.0072\n",
            "Epoch 110/150\n",
            "\u001b[1m51/51\u001b[0m \u001b[32m━━━━━━━━━━━━━━━━━━━━\u001b[0m\u001b[37m\u001b[0m \u001b[1m0s\u001b[0m 7ms/step - loss: 2.2371e-05 - val_loss: 0.0054\n",
            "Epoch 111/150\n",
            "\u001b[1m51/51\u001b[0m \u001b[32m━━━━━━━━━━━━━━━━━━━━\u001b[0m\u001b[37m\u001b[0m \u001b[1m0s\u001b[0m 8ms/step - loss: 2.0468e-05 - val_loss: 0.0064\n",
            "Epoch 112/150\n",
            "\u001b[1m51/51\u001b[0m \u001b[32m━━━━━━━━━━━━━━━━━━━━\u001b[0m\u001b[37m\u001b[0m \u001b[1m0s\u001b[0m 7ms/step - loss: 2.8550e-05 - val_loss: 0.0065\n",
            "Epoch 113/150\n",
            "\u001b[1m51/51\u001b[0m \u001b[32m━━━━━━━━━━━━━━━━━━━━\u001b[0m\u001b[37m\u001b[0m \u001b[1m1s\u001b[0m 10ms/step - loss: 1.9771e-05 - val_loss: 0.0062\n",
            "Epoch 114/150\n",
            "\u001b[1m51/51\u001b[0m \u001b[32m━━━━━━━━━━━━━━━━━━━━\u001b[0m\u001b[37m\u001b[0m \u001b[1m1s\u001b[0m 11ms/step - loss: 2.8091e-05 - val_loss: 0.0057\n",
            "Epoch 115/150\n",
            "\u001b[1m51/51\u001b[0m \u001b[32m━━━━━━━━━━━━━━━━━━━━\u001b[0m\u001b[37m\u001b[0m \u001b[1m0s\u001b[0m 8ms/step - loss: 2.2207e-05 - val_loss: 0.0061\n",
            "Epoch 116/150\n",
            "\u001b[1m51/51\u001b[0m \u001b[32m━━━━━━━━━━━━━━━━━━━━\u001b[0m\u001b[37m\u001b[0m \u001b[1m1s\u001b[0m 10ms/step - loss: 2.3812e-05 - val_loss: 0.0065\n",
            "Epoch 117/150\n",
            "\u001b[1m51/51\u001b[0m \u001b[32m━━━━━━━━━━━━━━━━━━━━\u001b[0m\u001b[37m\u001b[0m \u001b[1m0s\u001b[0m 8ms/step - loss: 2.5279e-05 - val_loss: 0.0070\n",
            "Epoch 118/150\n",
            "\u001b[1m51/51\u001b[0m \u001b[32m━━━━━━━━━━━━━━━━━━━━\u001b[0m\u001b[37m\u001b[0m \u001b[1m1s\u001b[0m 10ms/step - loss: 2.3577e-05 - val_loss: 0.0051\n",
            "Epoch 119/150\n",
            "\u001b[1m51/51\u001b[0m \u001b[32m━━━━━━━━━━━━━━━━━━━━\u001b[0m\u001b[37m\u001b[0m \u001b[1m0s\u001b[0m 6ms/step - loss: 2.8585e-05 - val_loss: 0.0054\n",
            "Epoch 120/150\n",
            "\u001b[1m51/51\u001b[0m \u001b[32m━━━━━━━━━━━━━━━━━━━━\u001b[0m\u001b[37m\u001b[0m \u001b[1m0s\u001b[0m 7ms/step - loss: 2.3267e-05 - val_loss: 0.0054\n",
            "Epoch 121/150\n",
            "\u001b[1m51/51\u001b[0m \u001b[32m━━━━━━━━━━━━━━━━━━━━\u001b[0m\u001b[37m\u001b[0m \u001b[1m0s\u001b[0m 8ms/step - loss: 2.1464e-05 - val_loss: 0.0053\n",
            "Epoch 122/150\n",
            "\u001b[1m51/51\u001b[0m \u001b[32m━━━━━━━━━━━━━━━━━━━━\u001b[0m\u001b[37m\u001b[0m \u001b[1m0s\u001b[0m 8ms/step - loss: 2.0650e-05 - val_loss: 0.0057\n",
            "Epoch 123/150\n",
            "\u001b[1m51/51\u001b[0m \u001b[32m━━━━━━━━━━━━━━━━━━━━\u001b[0m\u001b[37m\u001b[0m \u001b[1m0s\u001b[0m 7ms/step - loss: 3.6130e-05 - val_loss: 0.0058\n",
            "Epoch 124/150\n",
            "\u001b[1m51/51\u001b[0m \u001b[32m━━━━━━━━━━━━━━━━━━━━\u001b[0m\u001b[37m\u001b[0m \u001b[1m0s\u001b[0m 7ms/step - loss: 2.4105e-05 - val_loss: 0.0061\n",
            "Epoch 125/150\n",
            "\u001b[1m51/51\u001b[0m \u001b[32m━━━━━━━━━━━━━━━━━━━━\u001b[0m\u001b[37m\u001b[0m \u001b[1m0s\u001b[0m 6ms/step - loss: 2.0811e-05 - val_loss: 0.0045\n",
            "Epoch 126/150\n",
            "\u001b[1m51/51\u001b[0m \u001b[32m━━━━━━━━━━━━━━━━━━━━\u001b[0m\u001b[37m\u001b[0m \u001b[1m0s\u001b[0m 6ms/step - loss: 2.6666e-05 - val_loss: 0.0060\n",
            "Epoch 127/150\n",
            "\u001b[1m51/51\u001b[0m \u001b[32m━━━━━━━━━━━━━━━━━━━━\u001b[0m\u001b[37m\u001b[0m \u001b[1m0s\u001b[0m 7ms/step - loss: 2.2600e-05 - val_loss: 0.0060\n",
            "Epoch 128/150\n",
            "\u001b[1m51/51\u001b[0m \u001b[32m━━━━━━━━━━━━━━━━━━━━\u001b[0m\u001b[37m\u001b[0m \u001b[1m0s\u001b[0m 6ms/step - loss: 2.6857e-05 - val_loss: 0.0057\n",
            "Epoch 129/150\n",
            "\u001b[1m51/51\u001b[0m \u001b[32m━━━━━━━━━━━━━━━━━━━━\u001b[0m\u001b[37m\u001b[0m \u001b[1m0s\u001b[0m 7ms/step - loss: 1.9098e-05 - val_loss: 0.0058\n",
            "Epoch 130/150\n",
            "\u001b[1m51/51\u001b[0m \u001b[32m━━━━━━━━━━━━━━━━━━━━\u001b[0m\u001b[37m\u001b[0m \u001b[1m0s\u001b[0m 7ms/step - loss: 2.0630e-05 - val_loss: 0.0044\n",
            "Epoch 131/150\n",
            "\u001b[1m51/51\u001b[0m \u001b[32m━━━━━━━━━━━━━━━━━━━━\u001b[0m\u001b[37m\u001b[0m \u001b[1m0s\u001b[0m 7ms/step - loss: 2.2177e-05 - val_loss: 0.0049\n",
            "Epoch 132/150\n",
            "\u001b[1m51/51\u001b[0m \u001b[32m━━━━━━━━━━━━━━━━━━━━\u001b[0m\u001b[37m\u001b[0m \u001b[1m0s\u001b[0m 6ms/step - loss: 2.2518e-05 - val_loss: 0.0052\n",
            "Epoch 133/150\n",
            "\u001b[1m51/51\u001b[0m \u001b[32m━━━━━━━━━━━━━━━━━━━━\u001b[0m\u001b[37m\u001b[0m \u001b[1m0s\u001b[0m 7ms/step - loss: 2.0539e-05 - val_loss: 0.0048\n",
            "Epoch 134/150\n",
            "\u001b[1m51/51\u001b[0m \u001b[32m━━━━━━━━━━━━━━━━━━━━\u001b[0m\u001b[37m\u001b[0m \u001b[1m0s\u001b[0m 7ms/step - loss: 2.2712e-05 - val_loss: 0.0048\n",
            "Epoch 135/150\n",
            "\u001b[1m51/51\u001b[0m \u001b[32m━━━━━━━━━━━━━━━━━━━━\u001b[0m\u001b[37m\u001b[0m \u001b[1m0s\u001b[0m 7ms/step - loss: 2.2130e-05 - val_loss: 0.0056\n",
            "Epoch 136/150\n",
            "\u001b[1m51/51\u001b[0m \u001b[32m━━━━━━━━━━━━━━━━━━━━\u001b[0m\u001b[37m\u001b[0m \u001b[1m0s\u001b[0m 7ms/step - loss: 1.9343e-05 - val_loss: 0.0062\n",
            "Epoch 137/150\n",
            "\u001b[1m51/51\u001b[0m \u001b[32m━━━━━━━━━━━━━━━━━━━━\u001b[0m\u001b[37m\u001b[0m \u001b[1m0s\u001b[0m 6ms/step - loss: 2.1091e-05 - val_loss: 0.0056\n",
            "Epoch 138/150\n",
            "\u001b[1m51/51\u001b[0m \u001b[32m━━━━━━━━━━━━━━━━━━━━\u001b[0m\u001b[37m\u001b[0m \u001b[1m0s\u001b[0m 7ms/step - loss: 1.6569e-05 - val_loss: 0.0058\n",
            "Epoch 139/150\n",
            "\u001b[1m51/51\u001b[0m \u001b[32m━━━━━━━━━━━━━━━━━━━━\u001b[0m\u001b[37m\u001b[0m \u001b[1m0s\u001b[0m 7ms/step - loss: 1.7192e-05 - val_loss: 0.0053\n",
            "Epoch 140/150\n",
            "\u001b[1m51/51\u001b[0m \u001b[32m━━━━━━━━━━━━━━━━━━━━\u001b[0m\u001b[37m\u001b[0m \u001b[1m0s\u001b[0m 7ms/step - loss: 2.2712e-05 - val_loss: 0.0059\n",
            "Epoch 141/150\n",
            "\u001b[1m51/51\u001b[0m \u001b[32m━━━━━━━━━━━━━━━━━━━━\u001b[0m\u001b[37m\u001b[0m \u001b[1m0s\u001b[0m 7ms/step - loss: 1.9557e-05 - val_loss: 0.0051\n",
            "Epoch 142/150\n",
            "\u001b[1m51/51\u001b[0m \u001b[32m━━━━━━━━━━━━━━━━━━━━\u001b[0m\u001b[37m\u001b[0m \u001b[1m0s\u001b[0m 7ms/step - loss: 2.3985e-05 - val_loss: 0.0050\n",
            "Epoch 143/150\n",
            "\u001b[1m51/51\u001b[0m \u001b[32m━━━━━━━━━━━━━━━━━━━━\u001b[0m\u001b[37m\u001b[0m \u001b[1m0s\u001b[0m 6ms/step - loss: 2.8484e-05 - val_loss: 0.0060\n",
            "Epoch 144/150\n",
            "\u001b[1m51/51\u001b[0m \u001b[32m━━━━━━━━━━━━━━━━━━━━\u001b[0m\u001b[37m\u001b[0m \u001b[1m0s\u001b[0m 7ms/step - loss: 2.5380e-05 - val_loss: 0.0057\n",
            "Epoch 145/150\n",
            "\u001b[1m51/51\u001b[0m \u001b[32m━━━━━━━━━━━━━━━━━━━━\u001b[0m\u001b[37m\u001b[0m \u001b[1m0s\u001b[0m 8ms/step - loss: 2.5179e-05 - val_loss: 0.0048\n",
            "Epoch 146/150\n",
            "\u001b[1m51/51\u001b[0m \u001b[32m━━━━━━━━━━━━━━━━━━━━\u001b[0m\u001b[37m\u001b[0m \u001b[1m0s\u001b[0m 9ms/step - loss: 2.0109e-05 - val_loss: 0.0051\n",
            "Epoch 147/150\n",
            "\u001b[1m51/51\u001b[0m \u001b[32m━━━━━━━━━━━━━━━━━━━━\u001b[0m\u001b[37m\u001b[0m \u001b[1m1s\u001b[0m 14ms/step - loss: 2.1481e-05 - val_loss: 0.0052\n",
            "Epoch 148/150\n",
            "\u001b[1m51/51\u001b[0m \u001b[32m━━━━━━━━━━━━━━━━━━━━\u001b[0m\u001b[37m\u001b[0m \u001b[1m1s\u001b[0m 9ms/step - loss: 2.0686e-05 - val_loss: 0.0055\n",
            "Epoch 149/150\n",
            "\u001b[1m51/51\u001b[0m \u001b[32m━━━━━━━━━━━━━━━━━━━━\u001b[0m\u001b[37m\u001b[0m \u001b[1m1s\u001b[0m 9ms/step - loss: 1.5994e-05 - val_loss: 0.0055\n",
            "Epoch 150/150\n",
            "\u001b[1m51/51\u001b[0m \u001b[32m━━━━━━━━━━━━━━━━━━━━\u001b[0m\u001b[37m\u001b[0m \u001b[1m1s\u001b[0m 12ms/step - loss: 1.7381e-05 - val_loss: 0.0049\n"
          ]
        }
      ],
      "source": [
        "history = model.fit(X_train,y_train,validation_data=(X_test,y_test),epochs=150,batch_size=32,verbose=1)"
      ]
    },
    {
      "cell_type": "code",
      "execution_count": 20,
      "id": "78fbace9",
      "metadata": {},
      "outputs": [
        {
          "name": "stdout",
          "output_type": "stream",
          "text": [
            "\u001b[1m51/51\u001b[0m \u001b[32m━━━━━━━━━━━━━━━━━━━━\u001b[0m\u001b[37m\u001b[0m \u001b[1m1s\u001b[0m 8ms/step\n",
            "\u001b[1m34/34\u001b[0m \u001b[32m━━━━━━━━━━━━━━━━━━━━\u001b[0m\u001b[37m\u001b[0m \u001b[1m0s\u001b[0m 3ms/step\n"
          ]
        },
        {
          "data": {
            "text/plain": [
              "((1611, 1), (1070, 1))"
            ]
          },
          "execution_count": 20,
          "metadata": {},
          "output_type": "execute_result"
        }
      ],
      "source": [
        "### Lets Do the prediction and check performance metrics\n",
        "train_predict=model.predict(X_train)\n",
        "test_predict=model.predict(X_test)\n",
        "train_predict.shape, test_predict.shape"
      ]
    },
    {
      "cell_type": "code",
      "execution_count": 21,
      "id": "c9cedd13",
      "metadata": {},
      "outputs": [],
      "source": [
        "train_predict = scaler.inverse_transform(train_predict)\n",
        "test_predict = scaler.inverse_transform(test_predict)\n",
        "original_ytrain = scaler.inverse_transform(y_train.reshape(-1,1)) \n",
        "original_ytest = scaler.inverse_transform(y_test.reshape(-1,1)) "
      ]
    },
    {
      "cell_type": "code",
      "execution_count": 22,
      "id": "944de7fb",
      "metadata": {},
      "outputs": [
        {
          "name": "stdout",
          "output_type": "stream",
          "text": [
            "Train data RMSE:  306.921233573089\n",
            "-------------------------------------------------------------------------------------\n",
            "Test data RMSE:  4714.139700678231\n"
          ]
        }
      ],
      "source": [
        "# Evaluation metrices RMSE\n",
        "print(\"Train data RMSE: \", math.sqrt(mean_squared_error(original_ytrain,train_predict)))\n",
        "\n",
        "print(\"-------------------------------------------------------------------------------------\")\n",
        "print(\"Test data RMSE: \", math.sqrt(mean_squared_error(original_ytest,test_predict)))"
      ]
    },
    {
      "cell_type": "code",
      "execution_count": null,
      "id": "89580d6a",
      "metadata": {},
      "outputs": [],
      "source": []
    }
  ],
  "metadata": {
    "kernelspec": {
      "display_name": "Python 3",
      "language": "python",
      "name": "python3"
    },
    "language_info": {
      "codemirror_mode": {
        "name": "ipython",
        "version": 3
      },
      "file_extension": ".py",
      "mimetype": "text/x-python",
      "name": "python",
      "nbconvert_exporter": "python",
      "pygments_lexer": "ipython3",
      "version": "3.12.7"
    },
    "nteract": {
      "version": "0.28.0"
    }
  },
  "nbformat": 4,
  "nbformat_minor": 5
}
